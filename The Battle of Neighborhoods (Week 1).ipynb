{
    "cells": [
        {
            "cell_type": "markdown",
            "metadata": {},
            "source": "# <div align = center> The Battle of Neighborhoods"
        },
        {
            "cell_type": "markdown",
            "metadata": {},
            "source": "## Toronto and New York City"
        },
        {
            "cell_type": "markdown",
            "metadata": {},
            "source": "   "
        },
        {
            "cell_type": "markdown",
            "metadata": {},
            "source": "  "
        },
        {
            "cell_type": "markdown",
            "metadata": {},
            "source": "# Introduction"
        },
        {
            "cell_type": "markdown",
            "metadata": {},
            "source": "Toronto is the capital city of the Canadian province of Ontario. With a recorded population of 2,731,571 in 2016, it is the most populous city in Canada and the fourth most populous city in North America. \n\nNew York City is the most populous city in the United States. With an estimated 2019 population of 8,336,817 distributed over about 302.6 square miles, New York City is also the most densely populated major city in the United States.\n\nToronto and New York City are the popular vacation and migration destinations for people all around the world. They are diverse and multicultural and offer a wide variety of experiences that is widely sought after.  We try to group the neighborhoods of Toronto and New York City respectively and draw insights to what they look like now."
        },
        {
            "cell_type": "markdown",
            "metadata": {},
            "source": "  "
        },
        {
            "cell_type": "markdown",
            "metadata": {},
            "source": "# Business Problem"
        },
        {
            "cell_type": "markdown",
            "metadata": {},
            "source": "The aim is to help people choose their destinations depending on the experiences that the neighborhoods have to offer and what they would want to have. This also helps people make decisions if they are thinking about migrating to Toronto or New York City or even if they want to relocate neighborhoods within the city. Our findings will help stakeholders make informed decisions and address any concerns they have including the different kinds of cuisines, provision stores and what the city has to offer."
        },
        {
            "cell_type": "markdown",
            "metadata": {},
            "source": "  "
        },
        {
            "cell_type": "markdown",
            "metadata": {},
            "source": "# Data Description"
        },
        {
            "cell_type": "markdown",
            "metadata": {},
            "source": "We require geolocation data for both Toronto and New York City. Postal codes in each city serve as a starting point. Using Postal codes, we use can find out the neighborhoods, boroughs, venues and their most popular venue categories."
        },
        {
            "cell_type": "markdown",
            "metadata": {},
            "source": "## Toronto"
        },
        {
            "cell_type": "markdown",
            "metadata": {},
            "source": "To derive our solution, we scrape our data from https://en.wikipedia.org/wiki/List_of_postal_codes_of_Canada:_M\n\nThis Wikipedia page has information about all the neighborhoods, we limit it Toronto.\n\nAlso, it lacks of information about the geographical locations. To solve this problem, we use the Geocoder Python package\n"
        },
        {
            "cell_type": "markdown",
            "metadata": {},
            "source": "  "
        },
        {
            "cell_type": "markdown",
            "metadata": {},
            "source": "## New York City"
        },
        {
            "cell_type": "markdown",
            "metadata": {},
            "source": "To derive our solution, we leverage JSON data available at https://geo.nyu.edu/catalog/nyu_2451_34572"
        },
        {
            "cell_type": "markdown",
            "metadata": {},
            "source": "  "
        },
        {
            "cell_type": "markdown",
            "metadata": {},
            "source": "## Foursquare API Data"
        },
        {
            "cell_type": "markdown",
            "metadata": {},
            "source": "We will need data about different venues in different neighborhoods of that specific borough. In order to gain that information, we will use \"Foursquare\" locational information. Foursquare is a location data provider with information about all manner of venues and events within an area of interest. Such information includes venue names, locations, menus and even photos. As such, the foursquare location platform will be used as the sole data source since all the stated required information can be obtained through the API.\n\nAfter finding the list of neighborhoods, we then connect to the Foursquare API to gather information about venues inside every neighborhood. For each neighborhood, we have chosen the radius to be 500 meters.\n\n"
        },
        {
            "cell_type": "markdown",
            "metadata": {},
            "source": "The data retrieved from Foursquare contained information of venues within a specified distance of the longitude and latitude of the postcodes. The information obtained per venue as follows:\n\n* *Neighborhood*: Name of the Neighborhood\n* *Neighborhood Latitude*: Latitude of the Neighborhood\n* *Neighborhood Longitude*: Longitude of the Neighborhood\n* *Venue*: Name of the Venue\n* *Venue Latitude*: Latitude of Venue\n* *Venue Longitude*: Longitude of Venue\n* *Venue Category*: Category of Venue\n"
        },
        {
            "cell_type": "markdown",
            "metadata": {},
            "source": "Based on all the information collected for both Toronto and New York City, we have sufficient data to build our model. We cluster the neighborhoods together based on similar venue categories. We then present our observations and findings. Using this data, our stakeholders can take the necessary decision."
        },
        {
            "cell_type": "markdown",
            "metadata": {},
            "source": "  "
        },
        {
            "cell_type": "markdown",
            "metadata": {},
            "source": "# Methodology"
        },
        {
            "cell_type": "markdown",
            "metadata": {},
            "source": "We will be creating our model with the help of Python so we start off by importing all the required packages."
        },
        {
            "cell_type": "code",
            "execution_count": 1,
            "metadata": {},
            "outputs": [
                {
                    "name": "stdout",
                    "output_type": "stream",
                    "text": "Collecting package metadata (current_repodata.json): done\nSolving environment: done\n\n# All requested packages already installed.\n\n"
                }
            ],
            "source": "import pandas as pd\nimport numpy as np\nimport requests\nfrom bs4 import BeautifulSoup\n\nimport matplotlib.cm as cm\nimport matplotlib.colors as colors\n\n!conda install -c conda-forge folium=0.5.0\nimport folium\n\nfrom sklearn.cluster import KMeans"
        },
        {
            "cell_type": "markdown",
            "metadata": {},
            "source": "Package breakdown:\n\n* *Pandas* : To collect and manipulate data in JSON and HTMl and then data analysis\n* *requests* : Handle http requests\n* *matplotlib* : Detailing the generated maps\n* *folium* : Generating maps of Toronto and New York City\n* *sklearn* : To import Kmeans which is the machine learning model that we are using.\n\nThe approach taken here is to explore each of the cities individually, plot the map to show the neighborhoods being considered and then build our model by clustering all the similar neighborhoods together and finally plot the new map with the clustered neighborhoods. We draw insights and then compare and discuss our findings."
        }
    ],
    "metadata": {
        "kernelspec": {
            "display_name": "Python 3.7",
            "language": "python",
            "name": "python3"
        },
        "language_info": {
            "codemirror_mode": {
                "name": "ipython",
                "version": 3
            },
            "file_extension": ".py",
            "mimetype": "text/x-python",
            "name": "python",
            "nbconvert_exporter": "python",
            "pygments_lexer": "ipython3",
            "version": "3.7.10"
        }
    },
    "nbformat": 4,
    "nbformat_minor": 1
}